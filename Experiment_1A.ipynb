{
  "nbformat": 4,
  "nbformat_minor": 0,
  "metadata": {
    "colab": {
      "provenance": []
    },
    "kernelspec": {
      "name": "python3",
      "display_name": "Python 3"
    },
    "language_info": {
      "name": "python"
    }
  },
  "cells": [
    {
      "cell_type": "code",
      "execution_count": 1,
      "metadata": {
        "colab": {
          "base_uri": "https://localhost:8080/"
        },
        "id": "keBLxmmJhzzj",
        "outputId": "4839dddb-e3d2-43da-9107-1cb15abfcd22"
      },
      "outputs": [
        {
          "output_type": "stream",
          "name": "stdout",
          "text": [
            "Welcome to the Python Notebook\n",
            "4\n",
            "[4, 18, 23, 10, 7]\n",
            "Mustang\n",
            "{'brand': 'Ford', 'model': 'Mustang', 'year': 1969, 'color': 'Blue'}\n"
          ]
        }
      ],
      "source": [
        "print(\"Welcome to the Python Notebook\")\n",
        "\n",
        "items = [4, 18, 23]\n",
        "print(items[0])\n",
        "\n",
        "items.extend([10, 7])\n",
        "print(items)\n",
        "\n",
        "info = {\n",
        "    \"brand\": \"Ford\",\n",
        "    \"model\": \"Mustang\",\n",
        "    \"year\": 1969\n",
        "}\n",
        "print(info[\"model\"])\n",
        "\n",
        "info[\"color\"] = \"Blue\"\n",
        "print(info)\n"
      ]
    },
    {
      "cell_type": "code",
      "source": [
        "def greet_user(name):\n",
        "    print(\"Greetings,\", name)\n",
        "\n",
        "greet_user(\"Programmer\")\n"
      ],
      "metadata": {
        "colab": {
          "base_uri": "https://localhost:8080/"
        },
        "id": "MgmOAFWrifQ0",
        "outputId": "28d3214e-51f7-49b3-af53-91e7078322b6"
      },
      "execution_count": 2,
      "outputs": [
        {
          "output_type": "stream",
          "name": "stdout",
          "text": [
            "Greetings, Programmer\n"
          ]
        }
      ]
    },
    {
      "cell_type": "code",
      "source": [
        "from google.colab import drive\n",
        "drive.mount('/content/drive')\n"
      ],
      "metadata": {
        "colab": {
          "base_uri": "https://localhost:8080/"
        },
        "id": "4w6PEBCuikBe",
        "outputId": "4f78924c-8093-449d-f2d9-53958c857499"
      },
      "execution_count": 3,
      "outputs": [
        {
          "output_type": "stream",
          "name": "stdout",
          "text": [
            "Mounted at /content/drive\n"
          ]
        }
      ]
    },
    {
      "cell_type": "code",
      "source": [
        "import pandas as pd\n",
        "\n",
        "file_path = '/content/drive/My Drive/sample_data.csv'\n",
        "data = pd.read_csv(file_path)\n",
        "print(data.head())\n"
      ],
      "metadata": {
        "colab": {
          "base_uri": "https://localhost:8080/"
        },
        "id": "pJQOK3lBk-EO",
        "outputId": "e23da485-2396-4e03-b467-49c95ac48dd0"
      },
      "execution_count": 8,
      "outputs": [
        {
          "output_type": "stream",
          "name": "stdout",
          "text": [
            "      name  age  score\n",
            "0    Alice   23     88\n",
            "1      Bob   22     75\n",
            "2  Charlie   24     92\n",
            "3    Diana   23     85\n",
            "4      Eve   21     77\n"
          ]
        }
      ]
    },
    {
      "cell_type": "code",
      "source": [
        "sorted_data = data.sort_values(by='score', ascending=False)\n",
        "print(sorted_data)"
      ],
      "metadata": {
        "colab": {
          "base_uri": "https://localhost:8080/"
        },
        "id": "EZ3vjafxlHnl",
        "outputId": "1924048f-ba68-4eb2-d315-01dd2577be99"
      },
      "execution_count": 10,
      "outputs": [
        {
          "output_type": "stream",
          "name": "stdout",
          "text": [
            "      name  age  score\n",
            "2  Charlie   24     92\n",
            "0    Alice   23     88\n",
            "3    Diana   23     85\n",
            "4      Eve   21     77\n",
            "1      Bob   22     75\n"
          ]
        }
      ]
    },
    {
      "cell_type": "code",
      "source": [
        "filtered_data = data[data['score'] > 80]\n",
        "print(filtered_data)"
      ],
      "metadata": {
        "colab": {
          "base_uri": "https://localhost:8080/"
        },
        "id": "I3SaHFdplLXS",
        "outputId": "9c23c1df-2ead-4e92-e7d6-d09651cec1e6"
      },
      "execution_count": 11,
      "outputs": [
        {
          "output_type": "stream",
          "name": "stdout",
          "text": [
            "      name  age  score\n",
            "0    Alice   23     88\n",
            "2  Charlie   24     92\n",
            "3    Diana   23     85\n"
          ]
        }
      ]
    },
    {
      "cell_type": "code",
      "source": [
        "import matplotlib.pyplot as plt\n",
        "\n",
        "plt.hist(data['score'], bins=5)\n",
        "plt.title('Score Distribution')\n",
        "plt.xlabel('Score')\n",
        "plt.ylabel('Frequency')\n",
        "plt.show()\n"
      ],
      "metadata": {
        "colab": {
          "base_uri": "https://localhost:8080/",
          "height": 472
        },
        "id": "-yVOgPoUlZkV",
        "outputId": "fdf4da4d-3d48-496e-c3f8-c683cd49c514"
      },
      "execution_count": 13,
      "outputs": [
        {
          "output_type": "display_data",
          "data": {
            "text/plain": [
              "<Figure size 640x480 with 1 Axes>"
            ],
            "image/png": "[encoded data removed]"
          },
          "metadata": {}
        }
      ]
    }
  ]
}